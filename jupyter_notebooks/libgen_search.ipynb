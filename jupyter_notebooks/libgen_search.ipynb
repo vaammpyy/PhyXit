{
 "cells": [
  {
   "cell_type": "code",
   "execution_count": 1,
   "id": "60c24d0b-6fe7-4cf9-a0de-d04abdb70c50",
   "metadata": {},
   "outputs": [],
   "source": [
    "# importing necessary libraries\n",
    "from libgen_api import LibgenSearch"
   ]
  },
  {
   "cell_type": "markdown",
   "id": "da57292b-3104-455e-9001-96efa7281cda",
   "metadata": {},
   "source": [
    "# Search Title"
   ]
  },
  {
   "cell_type": "code",
   "execution_count": 4,
   "id": "84577a21-c0dd-47c7-bfb2-7e5c81ba0253",
   "metadata": {},
   "outputs": [
    {
     "name": "stdin",
     "output_type": "stream",
     "text": [
      "Enter title:  Relativity\n"
     ]
    },
    {
     "name": "stdout",
     "output_type": "stream",
     "text": [
      "{'ID': '7384', 'Author': 'Bertschinger E.', 'Title': 'Introduction to tensor calculus for general relativity', 'Publisher': 'MIT', 'Year': '2000', 'Pages': '427', 'Language': 'English', 'Size': '3 Mb', 'Extension': 'pdf', 'Mirror_1': 'http://library.lol/main/57B0FC8A8D0ED572DE3F7E7885714E0E', 'Mirror_2': 'http://libgen.lc/ads.php?md5=57B0FC8A8D0ED572DE3F7E7885714E0E', 'Mirror_3': 'https://library.bz/main/edit/57B0FC8A8D0ED572DE3F7E7885714E0E'}\n",
      "{'ID': '7390', 'Author': 'Anadi Jiban Das', 'Title': 'Tensors: the mathematics of relativity theory and continuum mechanics', 'Publisher': 'Springer', 'Year': '2007', 'Pages': '300', 'Language': 'English', 'Size': '3 Mb', 'Extension': 'pdf', 'Mirror_1': 'http://library.lol/main/999CCF4A32F534C2A6672D3738C9D301', 'Mirror_2': 'http://libgen.lc/ads.php?md5=999CCF4A32F534C2A6672D3738C9D301', 'Mirror_3': 'https://library.bz/main/edit/999CCF4A32F534C2A6672D3738C9D301'}\n",
      "{'ID': '8122', 'Author': 'Elie Cartan', 'Title': 'On manifolds with an affine connection and general relativity', 'Publisher': 'Humanities Pr', 'Year': '1986', 'Pages': '198', 'Language': 'English', 'Size': '2 Mb', 'Extension': 'djvu', 'Mirror_1': 'http://library.lol/main/99AAE30C7F23A960FA2435037C5EF1BD', 'Mirror_2': 'http://libgen.lc/ads.php?md5=99AAE30C7F23A960FA2435037C5EF1BD', 'Mirror_3': 'https://library.bz/main/edit/99AAE30C7F23A960FA2435037C5EF1BD'}\n",
      "{'ID': '8257', 'Author': \"Barrett O'Neill\", 'Title': 'Semi-Riemannian geometry: with applications to relativity', 'Publisher': 'Academic Press', 'Year': '1983', 'Pages': '482', 'Language': 'English', 'Size': '4 Mb', 'Extension': 'djvu', 'Mirror_1': 'http://library.lol/main/DEEF8115440113F7FDC859A3B4BFBAC5', 'Mirror_2': 'http://libgen.lc/ads.php?md5=DEEF8115440113F7FDC859A3B4BFBAC5', 'Mirror_3': 'https://library.bz/main/edit/DEEF8115440113F7FDC859A3B4BFBAC5'}\n",
      "{'ID': '8284', 'Author': 'Robert H. Wasserman', 'Title': 'Tensors and manifolds, applications to mechanics and relativity', 'Publisher': 'Oxford University Press, USA', 'Year': '1992', 'Pages': '394', 'Language': 'English', 'Size': '4 Mb', 'Extension': 'djvu', 'Mirror_1': 'http://library.lol/main/96800A741A1B40DF9B713C227EF0AD51', 'Mirror_2': 'http://libgen.lc/ads.php?md5=96800A741A1B40DF9B713C227EF0AD51', 'Mirror_3': 'https://library.bz/main/edit/96800A741A1B40DF9B713C227EF0AD51'}\n",
      "{'ID': '8550', 'Author': 'Gerd Baumann', 'Title': 'Mathematica for Theoretical Physics: Electrodynamics, Quantum Mechanics, General Relativity and Fractals', 'Publisher': 'Springer', 'Year': '2005', 'Pages': '407', 'Language': 'English', 'Size': '3 Mb', 'Extension': 'pdf', 'Mirror_1': 'http://library.lol/main/3088F971B07E40D08FEBDA42569764A5', 'Mirror_2': 'http://libgen.lc/ads.php?md5=3088F971B07E40D08FEBDA42569764A5', 'Mirror_3': 'https://library.bz/main/edit/3088F971B07E40D08FEBDA42569764A5'}\n",
      "{'ID': '9716', 'Author': 'Gregory L. Naber (auth.)', 'Title': 'The Geometry of Minkowski Spacetime: An Introduction to the Mathematics of the Special Theory of Relativity', 'Publisher': 'Springer-Verlag New York', 'Year': '2012', 'Pages': '324[271]', 'Language': 'English', 'Size': '3 Mb', 'Extension': 'djvu', 'Mirror_1': 'http://library.lol/main/56B4EE0F47417944E2514ACD94831870', 'Mirror_2': 'http://libgen.lc/ads.php?md5=56B4EE0F47417944E2514ACD94831870', 'Mirror_3': 'https://library.bz/main/edit/56B4EE0F47417944E2514ACD94831870'}\n",
      "{'ID': '10263', 'Author': 'Moshe Carmeli', 'Title': 'Group theory and general relativity: representations of the Lorentz group and their applications to the gravitational field', 'Publisher': 'McGraw-Hill', 'Year': '1977', 'Pages': '407', 'Language': 'English', 'Size': '3 Mb', 'Extension': 'djvu', 'Mirror_1': 'http://library.lol/main/B67AFFA2C3843E7F8D1F55FB2D30A8B3', 'Mirror_2': 'http://libgen.lc/ads.php?md5=B67AFFA2C3843E7F8D1F55FB2D30A8B3', 'Mirror_3': 'https://library.bz/main/edit/B67AFFA2C3843E7F8D1F55FB2D30A8B3'}\n",
      "{'ID': '12767', 'Author': 'R.W.P. Drever (auth.),Jürgen Ehlers,Claus Lämmerzahl (eds.)', 'Title': 'Special Relativity: Will it Survive the Next 101 Years?', 'Publisher': 'Springer-Verlag Berlin Heidelberg', 'Year': '2006', 'Pages': '533[537]', 'Language': 'English', 'Size': '9 Mb', 'Extension': 'pdf', 'Mirror_1': 'http://library.lol/main/A50F53B8F6D465CC8D24B39AA2A0AF41', 'Mirror_2': 'http://libgen.lc/ads.php?md5=A50F53B8F6D465CC8D24B39AA2A0AF41', 'Mirror_3': 'https://library.bz/main/edit/A50F53B8F6D465CC8D24B39AA2A0AF41'}\n",
      "{'ID': '13680', 'Author': 'Einstein A.', 'Title': 'The meaning of relativity', 'Publisher': 'Routledge', 'Year': '2003', 'Pages': '186', 'Language': 'English', 'Size': '702 Kb', 'Extension': 'pdf', 'Mirror_1': 'http://library.lol/main/C1F07E2C29C88C6CF85300F3A1459C87', 'Mirror_2': 'http://libgen.lc/ads.php?md5=C1F07E2C29C88C6CF85300F3A1459C87', 'Mirror_3': 'https://library.bz/main/edit/C1F07E2C29C88C6CF85300F3A1459C87'}\n",
      "{'ID': '13682', 'Author': 'Moses Fayngold,Roland Wengenmayr', 'Title': 'Special Relativity and Motions Faster Than Light', 'Publisher': 'Wiley-VCH', 'Year': '2002', 'Pages': '318', 'Language': 'English', 'Size': '4 Mb', 'Extension': 'pdf', 'Mirror_1': 'http://library.lol/main/9A8CEE9015313588E0C72B75441AB7D4', 'Mirror_2': 'http://libgen.lc/ads.php?md5=9A8CEE9015313588E0C72B75441AB7D4', 'Mirror_3': 'https://library.bz/main/edit/9A8CEE9015313588E0C72B75441AB7D4'}\n",
      "{'ID': '13684', 'Author': 'Rafael Ferraro', 'Title': \"Einstein's space-time: an introduction to special and general relativity\", 'Publisher': 'Springer', 'Year': '2007', 'Pages': '322', 'Language': 'English', 'Size': '3 Mb', 'Extension': 'djvu', 'Mirror_1': 'http://library.lol/main/8E15BD30F8F0D52E5B0D708AFB0012BA', 'Mirror_2': 'http://libgen.lc/ads.php?md5=8E15BD30F8F0D52E5B0D708AFB0012BA', 'Mirror_3': 'https://library.bz/main/edit/8E15BD30F8F0D52E5B0D708AFB0012BA'}\n",
      "{'ID': '13685', 'Author': 'Hogg D.', 'Title': 'Special relativity', 'Publisher': '', 'Year': '1997', 'Pages': '53', 'Language': 'English', 'Size': '779 Kb', 'Extension': 'pdf', 'Mirror_1': 'http://library.lol/main/85A80137BD2232A957FFEF1330080D52', 'Mirror_2': 'http://libgen.lc/ads.php?md5=85A80137BD2232A957FFEF1330080D52', 'Mirror_3': 'https://library.bz/main/edit/85A80137BD2232A957FFEF1330080D52'}\n",
      "{'ID': '13700', 'Author': 'Vesselin Petkov', 'Title': 'Relativity and the nature of spacetime', 'Publisher': 'Springer', 'Year': '2005', 'Pages': '290', 'Language': 'English', 'Size': '1 Mb', 'Extension': 'pdf', 'Mirror_1': 'http://library.lol/main/4E1309E9C1F77CDCC9AB7D4A5FAB2FF9', 'Mirror_2': 'http://libgen.lc/ads.php?md5=4E1309E9C1F77CDCC9AB7D4A5FAB2FF9', 'Mirror_3': 'https://library.bz/main/edit/4E1309E9C1F77CDCC9AB7D4A5FAB2FF9'}\n",
      "{'ID': '13703', 'Author': 'J. L Synge', 'Title': 'Relativity: The special theory', 'Publisher': 'Interscience Publishers', 'Year': '1958', 'Pages': '464', 'Language': 'English', 'Size': '4 Mb', 'Extension': 'djvu', 'Mirror_1': 'http://library.lol/main/18E487C1459528D5F96127D00A3E476A', 'Mirror_2': 'http://libgen.lc/ads.php?md5=18E487C1459528D5F96127D00A3E476A', 'Mirror_3': 'https://library.bz/main/edit/18E487C1459528D5F96127D00A3E476A'}\n",
      "{'ID': '13709', 'Author': 'N. M. J. Woodhouse', 'Title': 'Special relativity', 'Publisher': 'Springer-Verlag', 'Year': '1991', 'Pages': '92', 'Language': 'English', 'Size': '1 Mb', 'Extension': 'djvu', 'Mirror_1': 'http://library.lol/main/202EE524395BB429DEEA962D2D0185A0', 'Mirror_2': 'http://libgen.lc/ads.php?md5=202EE524395BB429DEEA962D2D0185A0', 'Mirror_3': 'https://library.bz/main/edit/202EE524395BB429DEEA962D2D0185A0'}\n",
      "{'ID': '13796', 'Author': 'Oliver Johns', 'Title': 'Analytical Mechanics for Relativity and Quantum Mechanics', 'Publisher': 'Oxford University Press', 'Year': '2005', 'Pages': '618', 'Language': 'English', 'Size': '3 Mb', 'Extension': 'pdf', 'Mirror_1': 'http://library.lol/main/8BED431532175FC80D8AF6B10192E475', 'Mirror_2': 'http://libgen.lc/ads.php?md5=8BED431532175FC80D8AF6B10192E475', 'Mirror_3': 'https://library.bz/main/edit/8BED431532175FC80D8AF6B10192E475'}\n",
      "{'ID': '14592', 'Author': 'Sidney B. Cahn,Boris E. Nadgorny,C.N. Yang', 'Title': 'A Guide to Physics Problems. Mechanics, Relativity, and Electrodynamics', 'Publisher': 'Springer', 'Year': '1994', 'Pages': '350', 'Language': 'English', 'Size': '7 Mb', 'Extension': 'pdf', 'Mirror_1': 'http://library.lol/main/13B5399EE47748CA0072AB23EEDC214C', 'Mirror_2': 'http://libgen.lc/ads.php?md5=13B5399EE47748CA0072AB23EEDC214C', 'Mirror_3': 'https://library.bz/main/edit/13B5399EE47748CA0072AB23EEDC214C'}\n",
      "{'ID': '14625', 'Author': \"Jia-Lu Zhang,Yung-Kuo Lim,You-Yuan Zhou,Shi-Ling Zhang,Chung-Kuo K'O Hsueh Chi Shu Ta Hsueh Physics Coaching Class\", 'Title': 'Problems and Solutions on Solid State Physics, Relativity and Miscellaneous Topics', 'Publisher': 'World Scientific Publishing Company', 'Year': '1995', 'Pages': '364', 'Language': 'English', 'Size': '4 Mb', 'Extension': 'djvu', 'Mirror_1': 'http://library.lol/main/59C9BAA223C6300FB85DE71ADD89927D', 'Mirror_2': 'http://libgen.lc/ads.php?md5=59C9BAA223C6300FB85DE71ADD89927D', 'Mirror_3': 'https://library.bz/main/edit/59C9BAA223C6300FB85DE71ADD89927D'}\n",
      "{'ID': '14652', 'Author': 'Wudka J.', 'Title': 'Physics 7, Special relativity and cosmology', 'Publisher': 'World Scientific Publishing Company', 'Year': '1991', 'Pages': '214', 'Language': 'English', 'Size': '11 Mb', 'Extension': 'pdf', 'Mirror_1': 'http://library.lol/main/3584A5B5FA62089469C09165C8E51E28', 'Mirror_2': 'http://libgen.lc/ads.php?md5=3584A5B5FA62089469C09165C8E51E28', 'Mirror_3': 'https://library.bz/main/edit/3584A5B5FA62089469C09165C8E51E28'}\n",
      "{'ID': '14653', 'Author': 'Wudka J.', 'Title': 'Physics 7, Special relativity and cosmology: exercises and exams', 'Publisher': '', 'Year': '2002', 'Pages': '[12]', 'Language': 'English', 'Size': '461 Kb', 'Extension': 'zip', 'Mirror_1': 'http://library.lol/main/BFE9CD4D27B9FD6F5046C96DB46B31D8', 'Mirror_2': 'http://libgen.lc/ads.php?md5=BFE9CD4D27B9FD6F5046C96DB46B31D8', 'Mirror_3': 'https://library.bz/main/edit/BFE9CD4D27B9FD6F5046C96DB46B31D8'}\n",
      "{'ID': '14808', 'Author': 'Walter Greiner', 'Title': 'Classical mechanics: point particles and relativity', 'Publisher': 'Springer', 'Year': '2004', 'Pages': '504', 'Language': 'English', 'Size': '9 Mb', 'Extension': 'djvu', 'Mirror_1': 'http://library.lol/main/5B213727E7D6AC182631763E4744B65D', 'Mirror_2': 'http://libgen.lc/ads.php?md5=5B213727E7D6AC182631763E4744B65D', 'Mirror_3': 'https://library.bz/main/edit/5B213727E7D6AC182631763E4744B65D'}\n",
      "{'ID': '14981', 'Author': 'Flügge S. (ed.)', 'Title': 'Encyclopedia of Physics. Principles of Electrodynamics and Relativity', 'Publisher': 'Springer', 'Year': '1962', 'Pages': '296', 'Language': 'English', 'Size': '3 Mb', 'Extension': 'djvu', 'Mirror_1': 'http://library.lol/main/E745961F9F7B2177D375E0730177A91E', 'Mirror_2': 'http://libgen.lc/ads.php?md5=E745961F9F7B2177D375E0730177A91E', 'Mirror_3': 'https://library.bz/main/edit/E745961F9F7B2177D375E0730177A91E'}\n",
      "{'ID': '15192', 'Author': 'Aldrovandi R.,Pereira J.', 'Title': 'Introduction to General Relativity', 'Publisher': '', 'Year': '2004', 'Pages': '185', 'Language': 'English', 'Size': '853 Kb', 'Extension': 'pdf', 'Mirror_1': 'http://library.lol/main/EF9A25E8298C2E2581ADE0E93C11A8AC', 'Mirror_2': 'http://libgen.lc/ads.php?md5=EF9A25E8298C2E2581ADE0E93C11A8AC', 'Mirror_3': 'https://library.bz/main/edit/EF9A25E8298C2E2581ADE0E93C11A8AC'}\n",
      "{'ID': '15198', 'Author': 'Carles Bona,Carlos Palenzuela-Luque (auth.)', 'Title': 'Elements of Numerical Relativity', 'Publisher': 'Springer Berlin Heidelberg', 'Year': '2005', 'Pages': '157', 'Language': 'English', 'Size': '2 Mb', 'Extension': 'pdf', 'Mirror_1': 'http://library.lol/main/E9FD53E0B4861E6A41ECAF4E330F503A', 'Mirror_2': 'http://libgen.lc/ads.php?md5=E9FD53E0B4861E6A41ECAF4E330F503A', 'Mirror_3': 'https://library.bz/main/edit/E9FD53E0B4861E6A41ECAF4E330F503A'}\n"
     ]
    }
   ],
   "source": [
    "title = input(\"Enter title: \")\n",
    "s = LibgenSearch()\n",
    "results = s.search_title(title)\n",
    "for i in results:\n",
    "    print(i)"
   ]
  },
  {
   "cell_type": "markdown",
   "id": "52f8b882-eb13-4f3b-9839-65edb398e3bf",
   "metadata": {},
   "source": [
    "# Search Author"
   ]
  },
  {
   "cell_type": "code",
   "execution_count": 5,
   "id": "4844bb6c-484f-41ff-826b-460eba3ef30e",
   "metadata": {},
   "outputs": [
    {
     "name": "stdin",
     "output_type": "stream",
     "text": [
      "Enter author name:  Albert Einstein\n"
     ]
    },
    {
     "name": "stdout",
     "output_type": "stream",
     "text": [
      "{'ID': '12809', 'Author': 'Albert Einstein,John Stachel,Roger Penrose', 'Title': \"Einstein's miraculous year: five papers that changed the face of physics\", 'Publisher': 'Princeton University Press', 'Year': '1998', 'Pages': '215', 'Language': 'English', 'Size': '1 Mb', 'Extension': 'djvu', 'Mirror_1': 'http://library.lol/main/215C8AFD90F104B04F32E75CE5CC02F9', 'Mirror_2': 'http://libgen.lc/ads.php?md5=215C8AFD90F104B04F32E75CE5CC02F9', 'Mirror_3': 'https://library.bz/main/edit/215C8AFD90F104B04F32E75CE5CC02F9'}\n",
      "{'ID': '15226', 'Author': 'Albert Einstein', 'Title': 'Grundzuege der Relativitaetstheorie', 'Publisher': 'Vieweg', 'Year': '1990', 'Pages': '169', 'Language': 'German', 'Size': '2 Mb', 'Extension': 'djvu', 'Mirror_1': 'http://library.lol/main/68070CD9CA89403379544EA6549E89BF', 'Mirror_2': 'http://libgen.lc/ads.php?md5=68070CD9CA89403379544EA6549E89BF', 'Mirror_3': 'https://library.bz/main/edit/68070CD9CA89403379544EA6549E89BF'}\n",
      "{'ID': '15227', 'Author': 'Albert Einstein,Rober Lawson', 'Title': 'Relativity: the special and general theory', 'Publisher': 'bnpublishing.com', 'Year': '2005', 'Pages': '115', 'Language': 'English', 'Size': '708 Kb', 'Extension': 'pdf', 'Mirror_1': 'http://library.lol/main/107C99208077C5EFE56FE4049F9B6C1D', 'Mirror_2': 'http://libgen.lc/ads.php?md5=107C99208077C5EFE56FE4049F9B6C1D', 'Mirror_3': 'https://library.bz/main/edit/107C99208077C5EFE56FE4049F9B6C1D'}\n",
      "{'ID': '15966', 'Author': 'Albert Einstein', 'Title': 'Relativity: the special and general theory', 'Publisher': 'Forgotten Books', 'Year': '2010', 'Pages': '85', 'Language': 'English', 'Size': '227 Kb', 'Extension': 'pdf', 'Mirror_1': 'http://library.lol/main/637FB862F250D3652E53661A357EAD68', 'Mirror_2': 'http://libgen.lc/ads.php?md5=637FB862F250D3652E53661A357EAD68', 'Mirror_3': 'https://library.bz/main/edit/637FB862F250D3652E53661A357EAD68'}\n",
      "{'ID': '15967', 'Author': 'Albert Einstein,Brian Greene', 'Title': 'The meaning of relativity', 'Publisher': 'Princeton University Press', 'Year': '2004', 'Pages': '103', 'Language': 'English', 'Size': '967 Kb', 'Extension': 'pdf', 'Mirror_1': 'http://library.lol/main/FFA40DBC381F01EF7ABA75D725DC5171', 'Mirror_2': 'http://libgen.lc/ads.php?md5=FFA40DBC381F01EF7ABA75D725DC5171', 'Mirror_3': 'https://library.bz/main/edit/FFA40DBC381F01EF7ABA75D725DC5171'}\n",
      "{'ID': '15968', 'Author': 'Albert Einstein', 'Title': 'The world as I see it', 'Publisher': 'Citadel', 'Year': '2001', 'Pages': '76', 'Language': 'English', 'Size': '387 Kb', 'Extension': 'pdf', 'Mirror_1': 'http://library.lol/main/5EFB8AB902A69FBC0C1F43ACEEA9B6FA', 'Mirror_2': 'http://libgen.lc/ads.php?md5=5EFB8AB902A69FBC0C1F43ACEEA9B6FA', 'Mirror_3': 'https://library.bz/main/edit/5EFB8AB902A69FBC0C1F43ACEEA9B6FA'}\n",
      "{'ID': '15970', 'Author': 'Albert Einstein,Leopold Infeld', 'Title': 'Evolution of physics', 'Publisher': 'Touchstone', 'Year': '1967', 'Pages': '336', 'Language': 'English', 'Size': '3 Mb', 'Extension': 'djvu', 'Mirror_1': 'http://library.lol/main/AC1C1782B27ECBD24FEAF221908B4F75', 'Mirror_2': 'http://libgen.lc/ads.php?md5=AC1C1782B27ECBD24FEAF221908B4F75', 'Mirror_3': 'https://library.bz/main/edit/AC1C1782B27ECBD24FEAF221908B4F75'}\n",
      "{'ID': '22859', 'Author': 'Niels. Nonel Laureates in Physics. (Albert Einstein) BOHR', 'Title': 'Discussions with Einstein on Epistemological Problems in Atomic Physics', 'Publisher': 'The Library of Living Philosophers', 'Year': '1949', 'Pages': '28', 'Language': 'English', 'Size': '217 Kb', 'Extension': 'pdf', 'Mirror_1': 'http://library.lol/main/36011468665A3CD4B0CF3DECAC6D5EEF', 'Mirror_2': 'http://libgen.lc/ads.php?md5=36011468665A3CD4B0CF3DECAC6D5EEF', 'Mirror_3': 'https://library.bz/main/edit/36011468665A3CD4B0CF3DECAC6D5EEF'}\n",
      "{'ID': '55325', 'Author': 'Albert Einstein,Roger Penrose,Robert Geroch,David C. Cassidy', 'Title': 'Relativity: The Special and the General Theory', 'Publisher': 'Pi Press', 'Year': '2005', 'Pages': '290', 'Language': 'English', 'Size': '3 Mb', 'Extension': 'pdf', 'Mirror_1': 'http://library.lol/main/0866548754A4AEFD43E21125B5299582', 'Mirror_2': 'http://libgen.lc/ads.php?md5=0866548754A4AEFD43E21125B5299582', 'Mirror_3': 'https://library.bz/main/edit/0866548754A4AEFD43E21125B5299582'}\n",
      "{'ID': '62528', 'Author': 'Albert Einstein', 'Title': 'Investigations on the Theory of the Brownian Movement', 'Publisher': 'Dover Publications', 'Year': '1956', 'Pages': '74', 'Language': 'English', 'Size': '7 Mb', 'Extension': 'pdf', 'Mirror_1': 'http://library.lol/main/C3FEB4593A28F86C7784F993A73D451E', 'Mirror_2': 'http://libgen.lc/ads.php?md5=C3FEB4593A28F86C7784F993A73D451E', 'Mirror_3': 'https://library.bz/main/edit/C3FEB4593A28F86C7784F993A73D451E'}\n",
      "{'ID': '75646', 'Author': 'Albert Einstein (auth.)', 'Title': 'Grundzüge der Relativitätstheorie', 'Publisher': 'Springer-Verlag Berlin Heidelberg', 'Year': '2009', 'Pages': '166[171]', 'Language': 'German', 'Size': '1 Mb', 'Extension': 'djvu', 'Mirror_1': 'http://library.lol/main/1C4EEFD3E0306910643BB898B4D8A343', 'Mirror_2': 'http://libgen.lc/ads.php?md5=1C4EEFD3E0306910643BB898B4D8A343', 'Mirror_3': 'https://library.bz/main/edit/1C4EEFD3E0306910643BB898B4D8A343'}\n",
      "{'ID': '75647', 'Author': 'Albert Einstein,Roger Penrose,Robert Geroch,David C. Cassidy', 'Title': 'Relativity. The special and the general theory', 'Publisher': 'Pi Press', 'Year': '2005', 'Pages': '290', 'Language': 'English', 'Size': '1 Mb', 'Extension': 'pdf', 'Mirror_1': 'http://library.lol/main/ACDE1C1534873F67AA8119F75F09540D', 'Mirror_2': 'http://libgen.lc/ads.php?md5=ACDE1C1534873F67AA8119F75F09540D', 'Mirror_3': 'https://library.bz/main/edit/ACDE1C1534873F67AA8119F75F09540D'}\n",
      "{'ID': '75762', 'Author': 'Albert (trans Robert W. Lawson). Einstein', 'Title': 'Relativity', 'Publisher': 'Methuen', 'Year': '1960', 'Pages': '177', 'Language': 'English', 'Size': '652 Kb', 'Extension': 'pdf', 'Mirror_1': 'http://library.lol/main/A2D65FCA8EF22A93D32B69D34B14B30D', 'Mirror_2': 'http://libgen.lc/ads.php?md5=A2D65FCA8EF22A93D32B69D34B14B30D', 'Mirror_3': 'https://library.bz/main/edit/A2D65FCA8EF22A93D32B69D34B14B30D'}\n",
      "{'ID': '80087', 'Author': 'Albert Einstein', 'Title': 'Relativity: The Special and the General Theory', 'Publisher': 'Forgotten Books', 'Year': '2010', 'Pages': '152', 'Language': 'English', 'Size': '1 Mb', 'Extension': 'pdf', 'Mirror_1': 'http://library.lol/main/FCD0E79C06B6FE563B54AE82AF7CE7B0', 'Mirror_2': 'http://libgen.lc/ads.php?md5=FCD0E79C06B6FE563B54AE82AF7CE7B0', 'Mirror_3': 'https://library.bz/main/edit/FCD0E79C06B6FE563B54AE82AF7CE7B0'}\n",
      "{'ID': '110740', 'Author': 'Albert Einstein,Nigel Calder', 'Title': 'Relativity: the special and the general theory', 'Publisher': 'Penguin Classics', 'Year': '2006', 'Pages': '160', 'Language': 'English', 'Size': '2 Mb', 'Extension': 'pdf', 'Mirror_1': 'http://library.lol/main/36971F3462F982490F4770B8BCE2CEE2', 'Mirror_2': 'http://libgen.lc/ads.php?md5=36971F3462F982490F4770B8BCE2CEE2', 'Mirror_3': 'https://library.bz/main/edit/36971F3462F982490F4770B8BCE2CEE2'}\n",
      "{'ID': '110741', 'Author': 'Albert Einstein', 'Title': 'Grundzüge der Relativitätstheorie', 'Publisher': 'Springer', 'Year': '2008', 'Pages': '174', 'Language': 'German', 'Size': '983 Kb', 'Extension': 'djvu', 'Mirror_1': 'http://library.lol/main/712C2B41EED7E2E2817478F56E78D488', 'Mirror_2': 'http://libgen.lc/ads.php?md5=712C2B41EED7E2E2817478F56E78D488', 'Mirror_3': 'https://library.bz/main/edit/712C2B41EED7E2E2817478F56E78D488'}\n",
      "{'ID': '110742', 'Author': 'Albert Einstein', 'Title': 'The collected papers of Albert Einstein, Vol. 11: Cumulative Index, Bibliography, List of Correspondence, Chronology, and Errata to Volumes 1-10', 'Publisher': 'Princeton University Press', 'Year': '2009', 'Pages': '631', 'Language': 'English', 'Size': '4 Mb', 'Extension': 'pdf', 'Mirror_1': 'http://library.lol/main/1983578A46D96847B81793CD86844083', 'Mirror_2': 'http://libgen.lc/ads.php?md5=1983578A46D96847B81793CD86844083', 'Mirror_3': 'https://library.bz/main/edit/1983578A46D96847B81793CD86844083'}\n",
      "{'ID': '110743', 'Author': 'Einstein Albert', 'Title': \"La théorie de la relativité restreinte et générale suivi de La relativité et le problème de l'espace\", 'Publisher': 'Yutopian Enterprises', 'Year': '2004', 'Pages': '64', 'Language': 'English', 'Size': '780 Kb', 'Extension': 'pdf', 'Mirror_1': 'http://library.lol/main/402BB9461B680F3F57EAC4DE09151A91', 'Mirror_2': 'http://libgen.lc/ads.php?md5=402BB9461B680F3F57EAC4DE09151A91', 'Mirror_3': 'https://library.bz/main/edit/402BB9461B680F3F57EAC4DE09151A91'}\n",
      "{'ID': '128433', 'Author': 'Albert Einstein', 'Title': 'The world as i see it', 'Publisher': 'Filiquarian Publishing, LLC.', 'Year': '2007', 'Pages': '65', 'Language': 'English', 'Size': '186 Kb', 'Extension': 'pdf', 'Mirror_1': 'http://library.lol/main/FA9F81A94ECE209C67F57F9D849922E8', 'Mirror_2': 'http://libgen.lc/ads.php?md5=FA9F81A94ECE209C67F57F9D849922E8', 'Mirror_3': 'https://library.bz/main/edit/FA9F81A94ECE209C67F57F9D849922E8'}\n",
      "{'ID': '128776', 'Author': 'Albert Einstein', 'Title': 'Relativity.The Special and General Theory', 'Publisher': 'Dover Publications', 'Year': '2010', 'Pages': '163', 'Language': 'English', 'Size': '641 Kb', 'Extension': 'pdf', 'Mirror_1': 'http://library.lol/main/0305EFEA25CB2B673679FE261585E94D', 'Mirror_2': 'http://libgen.lc/ads.php?md5=0305EFEA25CB2B673679FE261585E94D', 'Mirror_3': 'https://library.bz/main/edit/0305EFEA25CB2B673679FE261585E94D'}\n",
      "{'ID': '128777', 'Author': 'Albert Einstein', 'Title': 'What Is The Theory Of Relativity', 'Publisher': '', 'Year': '', 'Pages': '4', 'Language': 'English', 'Size': '21 Kb', 'Extension': 'pdf', 'Mirror_1': 'http://library.lol/main/8FBC0F607076D51172B64190A59C8F60', 'Mirror_2': 'http://libgen.lc/ads.php?md5=8FBC0F607076D51172B64190A59C8F60', 'Mirror_3': 'https://library.bz/main/edit/8FBC0F607076D51172B64190A59C8F60'}\n",
      "{'ID': '145527', 'Author': 'Albert Einstein', 'Title': 'Investigations on the theory of the Brownian movement', 'Publisher': 'Dover Publications', 'Year': '1956', 'Pages': '144', 'Language': 'English', 'Size': '1 Mb', 'Extension': 'djvu', 'Mirror_1': 'http://library.lol/main/830B93B7888D4FD8DCC42DA73D0B8BCE', 'Mirror_2': 'http://libgen.lc/ads.php?md5=830B93B7888D4FD8DCC42DA73D0B8BCE', 'Mirror_3': 'https://library.bz/main/edit/830B93B7888D4FD8DCC42DA73D0B8BCE'}\n",
      "{'ID': '147158', 'Author': 'Albert Einstein,Carl Seelig,Sonja Bargmann', 'Title': 'Ideas and Opinions', 'Publisher': 'Crown Publishers', 'Year': '1954', 'Pages': '384', 'Language': 'English', 'Size': '4 Mb', 'Extension': 'djvu', 'Mirror_1': 'http://library.lol/main/F891396869C920AFC3B6B242D691F81C', 'Mirror_2': 'http://libgen.lc/ads.php?md5=F891396869C920AFC3B6B242D691F81C', 'Mirror_3': 'https://library.bz/main/edit/F891396869C920AFC3B6B242D691F81C'}\n",
      "{'ID': '209005', 'Author': 'Albert (trans Robert W. Lawson). Einstein', 'Title': 'Relativity The Special and the General Theory', 'Publisher': 'Methuen', 'Year': '1960', 'Pages': '177', 'Language': 'English', 'Size': '694 Kb', 'Extension': 'pdf', 'Mirror_1': 'http://library.lol/main/649C544B0B659114271935ADE1686DC4', 'Mirror_2': 'http://libgen.lc/ads.php?md5=649C544B0B659114271935ADE1686DC4', 'Mirror_3': 'https://library.bz/main/edit/649C544B0B659114271935ADE1686DC4'}\n",
      "{'ID': '217173', 'Author': 'Albert Einstein', 'Title': 'The meaning of relativity', 'Publisher': 'MJF Books', 'Year': '1997', 'Pages': '103', 'Language': 'English', 'Size': '2 Mb', 'Extension': 'pdf', 'Mirror_1': 'http://library.lol/main/27338036B927CCCEFF62974C6A820395', 'Mirror_2': 'http://libgen.lc/ads.php?md5=27338036B927CCCEFF62974C6A820395', 'Mirror_3': 'https://library.bz/main/edit/27338036B927CCCEFF62974C6A820395'}\n"
     ]
    }
   ],
   "source": [
    "author = input(\"Enter author name: \")\n",
    "s = LibgenSearch()\n",
    "results = s.search_author(author)\n",
    "for i in results:\n",
    "    print(i)"
   ]
  },
  {
   "cell_type": "markdown",
   "id": "73d7145a-8306-456c-8f45-9edce8565e68",
   "metadata": {},
   "source": [
    "# Filtered Title Search"
   ]
  },
  {
   "cell_type": "code",
   "execution_count": 9,
   "id": "4d7710bb-a43b-4de5-8a43-9a1e6ba32bcd",
   "metadata": {},
   "outputs": [
    {
     "name": "stdin",
     "output_type": "stream",
     "text": [
      "Enter Title Relativity\n",
      "Enter year of publishing:  2003\n",
      "Enter preferred file extension:  pdf\n"
     ]
    },
    {
     "name": "stdout",
     "output_type": "stream",
     "text": [
      "{'ID': '13680', 'Author': 'Einstein A.', 'Title': 'The meaning of relativity', 'Publisher': 'Routledge', 'Year': '2003', 'Pages': '186', 'Language': 'English', 'Size': '702 Kb', 'Extension': 'pdf', 'Mirror_1': 'http://library.lol/main/C1F07E2C29C88C6CF85300F3A1459C87', 'Mirror_2': 'http://libgen.lc/ads.php?md5=C1F07E2C29C88C6CF85300F3A1459C87', 'Mirror_3': 'https://library.bz/main/edit/C1F07E2C29C88C6CF85300F3A1459C87'}\n"
     ]
    }
   ],
   "source": [
    "title = input(\"Enter Title\")\n",
    "yop = input(\"Enter year of publishing: \")\n",
    "ext = input(\"Enter preferred file extension: \")\n",
    "tf = LibgenSearch()\n",
    "title_filters = {\"Year\": yop, \"Extension\": ext}\n",
    "titles = tf.search_title_filtered(title, title_filters, exact_match=True)\n",
    "for i in titles:\n",
    "    print(i)"
   ]
  },
  {
   "cell_type": "markdown",
   "id": "c7da85ac-3797-42f8-b937-cdd7ba4fdd44",
   "metadata": {},
   "source": [
    "# Filtered Author Search"
   ]
  },
  {
   "cell_type": "code",
   "execution_count": 11,
   "id": "23a1f42d-b2e9-476f-a711-c7d6e2a8764a",
   "metadata": {},
   "outputs": [
    {
     "name": "stdin",
     "output_type": "stream",
     "text": [
      "Enter author name:  Holmes\n",
      "Enter preferred language:  English\n",
      "Enter year of publishing:  1980\n"
     ]
    },
    {
     "name": "stdout",
     "output_type": "stream",
     "text": [
      "{'ID': '56308', 'Author': 'James Holmes', 'Title': 'Struts: The Complete Reference', 'Publisher': 'McGraw-Hill/Osborne Media', 'Year': '1980', 'Pages': '504', 'Language': 'English', 'Size': '4 Mb', 'Extension': 'chm', 'Mirror_1': 'http://library.lol/main/5FA6D14CF89513460C0767E309BFBBAF', 'Mirror_2': 'http://libgen.lc/ads.php?md5=5FA6D14CF89513460C0767E309BFBBAF', 'Mirror_3': 'https://library.bz/main/edit/5FA6D14CF89513460C0767E309BFBBAF'}\n"
     ]
    }
   ],
   "source": [
    "author = input(\"Enter author name: \")\n",
    "lang = input(\"Enter preferred language: \")\n",
    "yop = input(\"Enter year of publishing: \")\n",
    "af = LibgenSearch()\n",
    "author_filters = {\"Language\": lang, \"Year\": yop}\n",
    "titles = af.search_author_filtered(author, author_filters, exact_match=True)\n",
    "for i in titles:\n",
    "    print(i)"
   ]
  },
  {
   "cell_type": "code",
   "execution_count": null,
   "id": "81e4de6b-e537-4065-b64a-9139e88480f6",
   "metadata": {},
   "outputs": [],
   "source": []
  }
 ],
 "metadata": {
  "kernelspec": {
   "display_name": "Python 3 (ipykernel)",
   "language": "python",
   "name": "python3"
  },
  "language_info": {
   "codemirror_mode": {
    "name": "ipython",
    "version": 3
   },
   "file_extension": ".py",
   "mimetype": "text/x-python",
   "name": "python",
   "nbconvert_exporter": "python",
   "pygments_lexer": "ipython3",
   "version": "3.10.12"
  }
 },
 "nbformat": 4,
 "nbformat_minor": 5
}
