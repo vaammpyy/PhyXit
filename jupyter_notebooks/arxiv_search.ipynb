{
 "cells": [
  {
   "cell_type": "code",
   "execution_count": 23,
   "id": "ca14726d-c6a0-4ca2-b084-fd685a9e69f1",
   "metadata": {},
   "outputs": [],
   "source": [
    "# importing necessary libraries\n",
    "import logging, arxiv\n",
    "logging.basicConfig(level=logging.INFO)"
   ]
  },
  {
   "cell_type": "markdown",
   "id": "09ad4ec5-032e-49bd-be44-bdc52ab979c4",
   "metadata": {},
   "source": [
    "# Fetching Results"
   ]
  },
  {
   "cell_type": "code",
   "execution_count": 24,
   "id": "5a05021b-8722-476c-88db-beb8bfab312d",
   "metadata": {},
   "outputs": [
    {
     "name": "stdin",
     "output_type": "stream",
     "text": [
      "Enter a search query:  bang\n"
     ]
    },
    {
     "name": "stderr",
     "output_type": "stream",
     "text": [
      "INFO:arxiv.arxiv:Requesting 20 results at offset 0\n",
      "INFO:arxiv.arxiv:Requesting page of results\n",
      "INFO:arxiv.arxiv:Got first page; 20 of 20 results available\n"
     ]
    },
    {
     "name": "stdout",
     "output_type": "stream",
     "text": [
      "An extraordinarily massive galaxy that formed its stars at $z \\gtrsim 11$ :  http://arxiv.org/abs/2308.05606v1\n",
      "Periodic optimal control of a plug flow reactor model with an isoperimetric constraint :  http://arxiv.org/abs/2308.04804v1\n",
      "Constraints on primordial black holes for nonstandard cosmologies :  http://arxiv.org/abs/2308.04642v1\n",
      "Cloth2Tex: A Customized Cloth Texture Generation Pipeline for 3D Virtual Try-On :  http://arxiv.org/abs/2308.04288v1\n",
      "Deuterated Polycyclic Aromatic Hydrocarbons in the Interstellar Medium: The Aliphatic C--D Band Strengths :  http://arxiv.org/abs/2308.04085v1\n",
      "Neutrinos and nucleosynthesis of elements :  http://arxiv.org/abs/2308.03962v1\n",
      "Big-Bang is a Boundary Condition :  http://arxiv.org/abs/2308.03926v1\n",
      "Radio Emission From a $z =$ 10.3 Black Hole in UHZ1 :  http://arxiv.org/abs/2308.03837v1\n",
      "First Detection of an Over-Massive Black Hole Galaxy: UHZ1 -- Evidence for Heavy Black Hole Seeds From Direct Collapse? :  http://arxiv.org/abs/2308.02654v1\n",
      "Implementations of the Universal Birkhoff Theory for Fast Trajectory Optimization :  http://arxiv.org/abs/2308.01450v2\n",
      "Signatures of Primordial Energy Injection from Axion Strings :  http://arxiv.org/abs/2308.01334v1\n",
      "More Context, Less Distraction: Visual Classification by Inferring and Conditioning on Contextual Attributes :  http://arxiv.org/abs/2308.01313v1\n",
      "SurveyLM: A platform to explore emerging value perspectives in augmented language models' behaviors :  http://arxiv.org/abs/2308.00521v1\n",
      "Recent Advances on Inflation :  http://arxiv.org/abs/2307.16308v1\n",
      "Debiased Pairwise Learning from Positive-Unlabeled Implicit Feedback :  http://arxiv.org/abs/2307.15973v1\n",
      "Long-period radial velocity variations of nine M red giants: The detection of sub-stellar companions around HD 6860 and HD 112300 :  http://arxiv.org/abs/2307.15897v1\n",
      "Big Bang in Dipole Cosmology :  http://arxiv.org/abs/2307.15791v1\n",
      "A search for new physics in low-energy electron recoils from the first LZ exposure :  http://arxiv.org/abs/2307.15753v1\n",
      "Two-step feedback preparation of entanglement for qubit systems with time delay :  http://arxiv.org/abs/2307.14599v1\n",
      "Lithium in Turn-off Stars in the Globular Cluster M5: A Quest for Primordial Lithium :  http://arxiv.org/abs/2307.14473v1\n"
     ]
    }
   ],
   "source": [
    "query = input(\"Enter a search query: \")\n",
    "\n",
    "search = arxiv.Search(\n",
    "  query = query,\n",
    "  max_results = 20,\n",
    "  sort_by = arxiv.SortCriterion.SubmittedDate\n",
    ")\n",
    "\n",
    "for result in search.results():\n",
    "  print(result.title, \": \", result)"
   ]
  },
  {
   "cell_type": "markdown",
   "id": "47ac5959-95ea-4dcb-bdbd-0120d12ba50d",
   "metadata": {},
   "source": [
    "# Fetch and print the title of the paper with ID eg. \"1605.08386v1:\""
   ]
  },
  {
   "cell_type": "code",
   "execution_count": 17,
   "id": "a3eb1502-e2c2-4074-bf9e-544e36e17349",
   "metadata": {},
   "outputs": [
    {
     "name": "stdin",
     "output_type": "stream",
     "text": [
      "Enter ID:  1605.08386v1\n"
     ]
    },
    {
     "name": "stdout",
     "output_type": "stream",
     "text": [
      "Heat-bath random walks with Markov bases :  http://arxiv.org/abs/1605.08386v1\n"
     ]
    }
   ],
   "source": [
    "id = input(\"Enter ID: \")\n",
    "search = arxiv.Search(id_list=[id])\n",
    "paper = next(search.results())\n",
    "print(paper.title, \": \", paper)"
   ]
  },
  {
   "cell_type": "markdown",
   "id": "4942f844-070f-4d74-94c3-3c7fb51616d3",
   "metadata": {},
   "source": [
    "# Fetch and print the details of the paper with ID eg. \"1605.08386v1:\""
   ]
  },
  {
   "cell_type": "code",
   "execution_count": 19,
   "id": "81595c28-6759-49f6-960f-07507a106f4b",
   "metadata": {},
   "outputs": [
    {
     "name": "stdin",
     "output_type": "stream",
     "text": [
      "Enter ID:  1605.08386v1\n"
     ]
    },
    {
     "name": "stdout",
     "output_type": "stream",
     "text": [
      "Link:  http://arxiv.org/abs/1605.08386v1\n",
      "Title:  Heat-bath random walks with Markov bases\n",
      "Publishing Date:  2016-05-26 17:59:46+00:00\n",
      "Author(s):  [arxiv.Result.Author('Caprice Stanley'), arxiv.Result.Author('Tobias Windisch')]\n",
      "Abstract:  Graphs on lattice points are studied whose edges come from a finite set of\n",
      "allowed moves of arbitrary length. We show that the diameter of these graphs on\n",
      "fibers of a fixed integer matrix can be bounded from above by a constant. We\n",
      "then study the mixing behaviour of heat-bath random walks on these graphs. We\n",
      "also state explicit conditions on the set of moves so that the heat-bath random\n",
      "walk, a generalization of the Glauber dynamics, is an expander in fixed\n",
      "dimension.\n",
      "Authors' Comments (if any):  20 pages, 3 figures\n",
      "Journal Reference (if present):  None\n",
      "DOI:  None\n",
      "Primary arxiv Category:  math.CO\n",
      "All arxiv Categories:  ['math.CO', 'math.ST', 'stat.TH', 'Primary: 05C81, Secondary: 37A25, 11P21']\n",
      "URL's associated with this paper:  [arxiv.Result.Link('http://arxiv.org/abs/1605.08386v1', title=None, rel='alternate', content_type=None), arxiv.Result.Link('http://arxiv.org/pdf/1605.08386v1', title='pdf', rel='related', content_type=None)]\n",
      "PDF link:  http://arxiv.org/pdf/1605.08386v1\n"
     ]
    }
   ],
   "source": [
    "id = input(\"Enter ID: \")\n",
    "search = arxiv.Search(id_list=[id])\n",
    "paper = next(search.results())\n",
    "print(\"Link: \", paper)\n",
    "print(\"Title: \", paper.title)\n",
    "print(\"Publishing Date: \", paper.published)\n",
    "print(\"Author(s): \", paper.authors)\n",
    "print(\"Abstract: \", paper.summary)\n",
    "print(\"Authors' Comments (if any): \", paper.comment)\n",
    "print(\"Journal Reference (if present): \", paper.journal_ref)\n",
    "print(\"DOI: \", paper.doi)\n",
    "print(\"Primary arxiv Category: \", paper.primary_category)\n",
    "print(\"All arxiv Categories: \", paper.categories)\n",
    "print(\"URL's associated with this paper: \", paper.links)\n",
    "print(\"PDF link: \", paper.pdf_url)"
   ]
  },
  {
   "cell_type": "markdown",
   "id": "3286082d-7ba7-4e1f-9380-2d6a005f4b77",
   "metadata": {},
   "source": [
    "# Downloading Papers"
   ]
  },
  {
   "cell_type": "markdown",
   "id": "804d0530-8816-4b6c-841b-270bc8220fed",
   "metadata": {},
   "source": [
    "## PWD with default filename"
   ]
  },
  {
   "cell_type": "code",
   "execution_count": 20,
   "id": "7d8480a4-ed42-4e05-9d07-032e5af5e30c",
   "metadata": {},
   "outputs": [
    {
     "name": "stdin",
     "output_type": "stream",
     "text": [
      "Enter ID:  1605.08386v1\n"
     ]
    },
    {
     "data": {
      "text/plain": [
       "'./1605.08386v1.Heat_bath_random_walks_with_Markov_bases.pdf'"
      ]
     },
     "execution_count": 20,
     "metadata": {},
     "output_type": "execute_result"
    }
   ],
   "source": [
    "id = input(\"Enter ID: \")\n",
    "paper = next(arxiv.Search(id_list=[id]).results())\n",
    "paper.download_pdf()"
   ]
  },
  {
   "cell_type": "markdown",
   "id": "af148b49-e98a-47cb-b683-d5040636d185",
   "metadata": {},
   "source": [
    "## PWD with custom filename"
   ]
  },
  {
   "cell_type": "code",
   "execution_count": 21,
   "id": "fe1d8e6a-c8c1-461f-bbc6-1274984f4fde",
   "metadata": {},
   "outputs": [
    {
     "name": "stdin",
     "output_type": "stream",
     "text": [
      "Enter ID:  1605.08386v1\n",
      "Enter Filename:  Lawda\n"
     ]
    },
    {
     "data": {
      "text/plain": [
       "'./Lawda'"
      ]
     },
     "execution_count": 21,
     "metadata": {},
     "output_type": "execute_result"
    }
   ],
   "source": [
    "id = input(\"Enter ID: \")\n",
    "name = input(\"Enter Filename: \")\n",
    "paper = next(arxiv.Search(id_list=[id]).results())\n",
    "paper.download_pdf(filename=name)"
   ]
  },
  {
   "cell_type": "markdown",
   "id": "18418e76-c8e5-41c4-8179-76af93daf4f4",
   "metadata": {},
   "source": [
    "## Specified Directory with custom filename"
   ]
  },
  {
   "cell_type": "code",
   "execution_count": null,
   "id": "f67c7720-de0b-4f4d-a273-035f4c9735c8",
   "metadata": {},
   "outputs": [],
   "source": [
    "id = input(\"Enter ID: \")\n",
    "path = input(\"Enter path of download directory: \")\n",
    "name = input(\"Enter Filename: \")\n",
    "paper = next(arxiv.Search(id_list=[id]).results())\n",
    "paper.download_pdf(dirpath=path, filename=name)"
   ]
  }
 ],
 "metadata": {
  "kernelspec": {
   "display_name": "Python 3 (ipykernel)",
   "language": "python",
   "name": "python3"
  },
  "language_info": {
   "codemirror_mode": {
    "name": "ipython",
    "version": 3
   },
   "file_extension": ".py",
   "mimetype": "text/x-python",
   "name": "python",
   "nbconvert_exporter": "python",
   "pygments_lexer": "ipython3",
   "version": "3.10.12"
  }
 },
 "nbformat": 4,
 "nbformat_minor": 5
}
